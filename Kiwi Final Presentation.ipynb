{
 "cells": [
  {
   "cell_type": "markdown",
   "metadata": {},
   "source": [
    "# Final Presentation Notebook\n",
    "##### Alexa, play Despacito"
   ]
  },
  {
   "cell_type": "markdown",
   "metadata": {},
   "source": [
    "## Introduction\n",
    "- Welcome to our final presentation! \n",
    "- For our presentaation, we individuaally determined a \"best\" neighborhood according to some metric, and then combined our rankings to give you a definitive answer to the question: \"Which Pittsburgh Neighborhood is the Best?\"\n",
    "- We picked our inividual metrics because we all agreed that safety, infrastructure, and cleanliness are important to fostering a healthy community in any neighborhood"
   ]
  },
  {
   "cell_type": "markdown",
   "metadata": {},
   "source": [
    "## Metrics\n",
    "- Krishna:\n",
    "    - Ranked neighborhoods based on the proportion of crimes in a given neighborhood relative to the neighborhood's population.\n",
    "\n",
    "- Cavan:\n",
    "    - Ranked neighborhoods based on the number of Pittsburgh's new \"Smart Trash Cans\" in the neighborhood. \n",
    "\n",
    "- Sam:\n",
    "    - Ranked neighborhoods based on the number of public wifi networks in the neighborhood.\n"
   ]
  },
  {
   "cell_type": "markdown",
   "metadata": {},
   "source": [
    "## The Best Neighborhood - Analysis\n",
    "- We made a file that contains our individual top 10 neighborhoods, and then determined the best neighborhood using golf-style scoring. We added the placement number of each neighborhood together, and whichever one had the lowest overall number placed the highest, making it the best neighborhood!"
   ]
  },
  {
   "cell_type": "code",
   "execution_count": 45,
   "metadata": {},
   "outputs": [
    {
     "data": {
      "text/html": [
       "<div>\n",
       "<style scoped>\n",
       "    .dataframe tbody tr th:only-of-type {\n",
       "        vertical-align: middle;\n",
       "    }\n",
       "\n",
       "    .dataframe tbody tr th {\n",
       "        vertical-align: top;\n",
       "    }\n",
       "\n",
       "    .dataframe thead th {\n",
       "        text-align: right;\n",
       "    }\n",
       "</style>\n",
       "<table border=\"1\" class=\"dataframe\">\n",
       "  <thead>\n",
       "    <tr style=\"text-align: right;\">\n",
       "      <th></th>\n",
       "      <th>neighborhood</th>\n",
       "      <th>score</th>\n",
       "    </tr>\n",
       "  </thead>\n",
       "  <tbody>\n",
       "    <tr>\n",
       "      <th>13</th>\n",
       "      <td>Squirrel Hill South</td>\n",
       "      <td>38</td>\n",
       "    </tr>\n",
       "    <tr>\n",
       "      <th>5</th>\n",
       "      <td>Brookline</td>\n",
       "      <td>43</td>\n",
       "    </tr>\n",
       "    <tr>\n",
       "      <th>3</th>\n",
       "      <td>Bluff</td>\n",
       "      <td>46</td>\n",
       "    </tr>\n",
       "    <tr>\n",
       "      <th>15</th>\n",
       "      <td>Squirrel Hill North</td>\n",
       "      <td>47</td>\n",
       "    </tr>\n",
       "    <tr>\n",
       "      <th>10</th>\n",
       "      <td>Point Breeze</td>\n",
       "      <td>65</td>\n",
       "    </tr>\n",
       "  </tbody>\n",
       "</table>\n",
       "</div>"
      ],
      "text/plain": [
       "           neighborhood  score\n",
       "13  Squirrel Hill South     38\n",
       "5             Brookline     43\n",
       "3                 Bluff     46\n",
       "15  Squirrel Hill North     47\n",
       "10         Point Breeze     65"
      ]
     },
     "execution_count": 45,
     "metadata": {},
     "output_type": "execute_result"
    },
    {
     "data": {
      "image/png": "[encoded data removed]",
      "text/plain": [
       "<Figure size 432x288 with 1 Axes>"
      ]
     },
     "metadata": {
      "needs_background": "light"
     },
     "output_type": "display_data"
    }
   ],
   "source": [
    "import pandas as pd\n",
    "\n",
    "data = pd.read_csv(\"final_rankings.csv\")\n",
    "ranking_df = pd.DataFrame(data)\n",
    "\n",
    "arrests = set(ranking_df['Arrests'])\n",
    "hotspots = set(ranking_df['Wifi Hotspots'])\n",
    "trashcans = set(ranking_df['Trash Cans'])\n",
    "\n",
    "common_neighborhoods = list(arrests & hotspots & trashcans)\n",
    "neighborhood_scores = list(range(len(common_neighborhoods)))\n",
    "\n",
    "for i in range(len(common_neighborhoods)):\n",
    "    curr_neighborhood = common_neighborhoods[i]\n",
    "    \n",
    "    neighborhood_scores[i] += ranking_df['Arrests'].index[ranking_df['Arrests'] == curr_neighborhood].tolist()[0]\n",
    "    neighborhood_scores[i] += ranking_df['Wifi Hotspots'].index[ranking_df['Wifi Hotspots'] == curr_neighborhood].tolist()[0]\n",
    "    neighborhood_scores[i] += ranking_df['Trash Cans'].index[ranking_df['Trash Cans'] == curr_neighborhood].tolist()[0]\n",
    "\n",
    "    \n",
    "scores_df = pd.DataFrame(list(zip(common_neighborhoods, neighborhood_scores)), columns=['neighborhood', 'score'])\n",
    "scores_df = scores_df.sort_values(by='score', ascending=True)\n",
    "scores_df = scores_df.head(5)\n",
    "scores_df.plot(kind='bar', x='neighborhood', y='score')\n",
    "scores_df"
   ]
  },
  {
   "cell_type": "markdown",
   "metadata": {},
   "source": [
    "## Conclusion\n",
    "- According to our analysis, the best neighborhood in Pittsburgh as measured by wifi hotspot availability, arrest frequency, and trash can maintenance, is..."
   ]
  },
  {
   "cell_type": "markdown",
   "metadata": {},
   "source": [
    "<details>\n",
    "  <summary>DRUMROLL PLEASE...</summary>\n",
    "  <h1 style=\"color:green\">SQUIRREL HILL SOUTH!!!</h1>\n",
    "  <h4>Followed by:</h4>\n",
    "    <ol start=\"2\">\n",
    "      <li>Brookline</li>\n",
    "      <li>Bluff</li>\n",
    "      <li>Squirrel Hill North</li>\n",
    "      <li>Point Breeze</li>\n",
    "    </ol>\n",
    "</details>"
   ]
  },
  {
   "cell_type": "markdown",
   "metadata": {},
   "source": []
  }
 ],
 "metadata": {
  "kernelspec": {
   "display_name": "Python 3",
   "language": "python",
   "name": "python3"
  },
  "language_info": {
   "codemirror_mode": {
    "name": "ipython",
    "version": 3
   },
   "file_extension": ".py",
   "mimetype": "text/x-python",
   "name": "python",
   "nbconvert_exporter": "python",
   "pygments_lexer": "ipython3",
   "version": "3.8.3"
  }
 },
 "nbformat": 4,
 "nbformat_minor": 4
}
