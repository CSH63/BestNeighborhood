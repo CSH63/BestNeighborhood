{
 "cells": [
  {
   "cell_type": "code",
   "execution_count": null,
   "metadata": {},
   "outputs": [],
   "source": [
    "import fpsnippets\n",
    "file = pd.read_csv(\"HousingPrice.csv\")\n",
    "    \n",
    "file = file.sort_values(by=[\"Street Density (st. mi/area sq. mi)\"], ascending=True)\n",
    "\n",
    "graph = file.plot.barh(x=\"Neighborhood\",y=\"Street Density (st. mi/area sq. mi)\",figsize=(15,file.shape[0] * 0.3), legend=None)\n",
    "graph.set_xlabel(\"Street Density per neightborhood's area (st. mi/area sq. mi)\")\n",
    "graph.get_figure().savefig('transportation.pdf')"
   ]
  }
 ],
 "metadata": {
  "kernelspec": {
   "display_name": "Python 3",
   "language": "python",
   "name": "python3"
  },
  "language_info": {
   "codemirror_mode": {
    "name": "ipython",
    "version": 3
   },
   "file_extension": ".py",
   "mimetype": "text/x-python",
   "name": "python",
   "nbconvert_exporter": "python",
   "pygments_lexer": "ipython3",
   "version": "3.8.3"
  }
 },
 "nbformat": 4,
 "nbformat_minor": 4
}
